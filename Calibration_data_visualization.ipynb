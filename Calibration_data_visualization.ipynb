{
  "nbformat": 4,
  "nbformat_minor": 0,
  "metadata": {
    "colab": {
      "name": "Calibration_data_visualization.ipynb",
      "provenance": [],
      "collapsed_sections": [],
      "toc_visible": true,
      "include_colab_link": true
    },
    "kernelspec": {
      "display_name": "Python 3",
      "name": "python3"
    }
  },
  "cells": [
    {
      "cell_type": "markdown",
      "metadata": {
        "id": "view-in-github",
        "colab_type": "text"
      },
      "source": [
        "<a href=\"https://colab.research.google.com/github/marinaepitropaki/Data_Visualization/blob/master/Calibration_data_visualization.ipynb\" target=\"_parent\"><img src=\"https://colab.research.google.com/assets/colab-badge.svg\" alt=\"Open In Colab\"/></a>"
      ]
    },
    {
      "cell_type": "code",
      "metadata": {
        "id": "csQvMoO7y1dI"
      },
      "source": [
        "import numpy as np \n",
        "from scipy import stats\n",
        "%matplotlib inline\n",
        "from matplotlib import pyplot as plt\n",
        "import glob\n",
        "from google.colab import drive\n",
        "from astropy.io import fits\n",
        "from astropy.visualization import hist\n",
        "from astropy.stats import mad_std\n",
        "import matplotlib.ticker as ticker\n",
        "import pandas as pd\n",
        "import random"
      ],
      "execution_count": null,
      "outputs": []
    },
    {
      "cell_type": "code",
      "metadata": {
        "id": "W2ZTVI6655zY",
        "colab": {
          "base_uri": "https://localhost:8080/"
        },
        "outputId": "38df19fe-c122-4c6f-9b67-83145bf378b8"
      },
      "source": [
        "drive.mount('/content/drive')\n"
      ],
      "execution_count": null,
      "outputs": [
        {
          "output_type": "stream",
          "text": [
            "Mounted at /content/drive\n"
          ],
          "name": "stdout"
        }
      ]
    },
    {
      "cell_type": "code",
      "metadata": {
        "id": "YoRLgqN66CQT",
        "colab": {
          "base_uri": "https://localhost:8080/"
        },
        "outputId": "c0e71171-55e2-4bde-8667-64af9d94fe1d"
      },
      "source": [
        "#Path for bias or darks or flats FIT files\n",
        "\n",
        "files = sorted(glob.glob('/content/drive/My Drive/AstroPractice/bdf/bias*.fit'))[:28]\n",
        "\n",
        "files"
      ],
      "execution_count": null,
      "outputs": [
        {
          "output_type": "execute_result",
          "data": {
            "text/plain": [
              "['/content/drive/My Drive/AstroPractice/bdf/bias-001.fit',\n",
              " '/content/drive/My Drive/AstroPractice/bdf/bias-002.fit',\n",
              " '/content/drive/My Drive/AstroPractice/bdf/bias-003.fit',\n",
              " '/content/drive/My Drive/AstroPractice/bdf/bias-004.fit',\n",
              " '/content/drive/My Drive/AstroPractice/bdf/bias-005.fit',\n",
              " '/content/drive/My Drive/AstroPractice/bdf/bias-006.fit',\n",
              " '/content/drive/My Drive/AstroPractice/bdf/bias-007.fit',\n",
              " '/content/drive/My Drive/AstroPractice/bdf/bias-008.fit',\n",
              " '/content/drive/My Drive/AstroPractice/bdf/bias-009.fit',\n",
              " '/content/drive/My Drive/AstroPractice/bdf/bias-010.fit',\n",
              " '/content/drive/My Drive/AstroPractice/bdf/bias-011.fit',\n",
              " '/content/drive/My Drive/AstroPractice/bdf/bias-012.fit',\n",
              " '/content/drive/My Drive/AstroPractice/bdf/bias-013.fit',\n",
              " '/content/drive/My Drive/AstroPractice/bdf/bias-014.fit',\n",
              " '/content/drive/My Drive/AstroPractice/bdf/bias-015.fit',\n",
              " '/content/drive/My Drive/AstroPractice/bdf/bias-016.fit',\n",
              " '/content/drive/My Drive/AstroPractice/bdf/bias-017.fit',\n",
              " '/content/drive/My Drive/AstroPractice/bdf/bias-018.fit',\n",
              " '/content/drive/My Drive/AstroPractice/bdf/bias-019.fit',\n",
              " '/content/drive/My Drive/AstroPractice/bdf/bias-020.fit',\n",
              " '/content/drive/My Drive/AstroPractice/bdf/bias-021.fit',\n",
              " '/content/drive/My Drive/AstroPractice/bdf/bias-022.fit',\n",
              " '/content/drive/My Drive/AstroPractice/bdf/bias-023.fit',\n",
              " '/content/drive/My Drive/AstroPractice/bdf/bias-024.fit',\n",
              " '/content/drive/My Drive/AstroPractice/bdf/bias-025.fit',\n",
              " '/content/drive/My Drive/AstroPractice/bdf/bias-026.fit',\n",
              " '/content/drive/My Drive/AstroPractice/bdf/bias-027.fit',\n",
              " '/content/drive/My Drive/AstroPractice/bdf/bias-028.fit']"
            ]
          },
          "metadata": {
            "tags": []
          },
          "execution_count": 3
        }
      ]
    },
    {
      "cell_type": "code",
      "metadata": {
        "id": "bj9Pvl3dvyQa",
        "colab": {
          "base_uri": "https://localhost:8080/"
        },
        "outputId": "48a84e96-7989-48a6-f402-40345f6b5315"
      },
      "source": [
        "#Calculation of the median and the average of the each file\n",
        "\n",
        "median = []\n",
        "average = []\n",
        "data_list = []\n",
        "for f in files:\n",
        "  data = fits.getdata(f)\n",
        "  print('\\nfile name:',f)\n",
        "  data_list.append(data)\n",
        "  new_med = np.median(data, axis=None)\n",
        "  new_avg = np.average(data, axis=None)\n",
        "  median.append(new_med)\n",
        "  average.append(new_avg)\n",
        "  print('Average:', new_avg,'\\nMedian:' ,new_med)\n",
        "\n",
        "print('#######################################################')\n",
        "\n",
        "#Calculation of the median and the average of the master file\n",
        "\n",
        "master_data = fits.getdata('/content/drive/My Drive/AstroPractice/bdf/masters/combined_bias.fit')\n",
        "print('\\nfile name:master')\n",
        "\n",
        "master_median = np.median(master_data, axis=None)\n",
        "master_average = np.average(master_data, axis=None)\n",
        "\n",
        "print('Master Average:', master_average,'\\nMaster Median:' ,master_median)\n",
        "\n",
        "print('\\n#############################################')\n",
        "\n",
        "# Calculation of the average of the averages\n",
        "for a in average:\n",
        "  print('\\nAverage:',a)\n",
        "  new_mean=np.average(average,axis=None)\n",
        "  new_median=np.median(average, axis=None)\n",
        "  new_std=np.std(average, axis=None)\n",
        "  print('\\nAverage of the average:', new_mean, '\\nMedian of the average:', new_median,)\n",
        "\n",
        "\n",
        "print('\\n#####################################################') \n",
        "print('Average:', average,'\\n\\nMedian:' ,median,'\\n\\nAverage of the average:', new_mean,\n",
        "      '\\n\\nMedian of the average:', new_median,'\\n\\nStandard deviation of the average :', new_std)"
      ],
      "execution_count": null,
      "outputs": [
        {
          "output_type": "stream",
          "text": [
            "\n",
            "file name: /content/drive/My Drive/AstroPractice/bdf/bias-001.fit\n",
            "Average: 314.7908878326416 \n",
            "Median: 315.0\n",
            "\n",
            "file name: /content/drive/My Drive/AstroPractice/bdf/bias-002.fit\n",
            "Average: 314.8086233139038 \n",
            "Median: 315.0\n",
            "\n",
            "file name: /content/drive/My Drive/AstroPractice/bdf/bias-003.fit\n",
            "Average: 314.8390598297119 \n",
            "Median: 315.0\n",
            "\n",
            "file name: /content/drive/My Drive/AstroPractice/bdf/bias-004.fit\n",
            "Average: 315.03722763061523 \n",
            "Median: 315.0\n",
            "\n",
            "file name: /content/drive/My Drive/AstroPractice/bdf/bias-005.fit\n",
            "Average: 315.1492586135864 \n",
            "Median: 315.0\n",
            "\n",
            "file name: /content/drive/My Drive/AstroPractice/bdf/bias-006.fit\n",
            "Average: 314.5195779800415 \n",
            "Median: 315.0\n",
            "\n",
            "file name: /content/drive/My Drive/AstroPractice/bdf/bias-007.fit\n",
            "Average: 314.568151473999 \n",
            "Median: 315.0\n",
            "\n",
            "file name: /content/drive/My Drive/AstroPractice/bdf/bias-008.fit\n",
            "Average: 313.89050102233887 \n",
            "Median: 314.0\n",
            "\n",
            "file name: /content/drive/My Drive/AstroPractice/bdf/bias-009.fit\n",
            "Average: 314.9039421081543 \n",
            "Median: 315.0\n",
            "\n",
            "file name: /content/drive/My Drive/AstroPractice/bdf/bias-010.fit\n",
            "Average: 313.3913335800171 \n",
            "Median: 314.0\n",
            "\n",
            "file name: /content/drive/My Drive/AstroPractice/bdf/bias-011.fit\n",
            "Average: 315.23509311676025 \n",
            "Median: 315.0\n",
            "\n",
            "file name: /content/drive/My Drive/AstroPractice/bdf/bias-012.fit\n",
            "Average: 315.5891580581665 \n",
            "Median: 316.0\n",
            "\n",
            "file name: /content/drive/My Drive/AstroPractice/bdf/bias-013.fit\n",
            "Average: 313.5477571487427 \n",
            "Median: 314.0\n",
            "\n",
            "file name: /content/drive/My Drive/AstroPractice/bdf/bias-014.fit\n",
            "Average: 314.23756885528564 \n",
            "Median: 314.0\n",
            "\n",
            "file name: /content/drive/My Drive/AstroPractice/bdf/bias-015.fit\n",
            "Average: 315.15112686157227 \n",
            "Median: 315.0\n",
            "\n",
            "file name: /content/drive/My Drive/AstroPractice/bdf/bias-016.fit\n",
            "Average: 314.67833518981934 \n",
            "Median: 315.0\n",
            "\n",
            "file name: /content/drive/My Drive/AstroPractice/bdf/bias-017.fit\n",
            "Average: 314.0094919204712 \n",
            "Median: 314.0\n",
            "\n",
            "file name: /content/drive/My Drive/AstroPractice/bdf/bias-018.fit\n",
            "Average: 314.955641746521 \n",
            "Median: 315.0\n",
            "\n",
            "file name: /content/drive/My Drive/AstroPractice/bdf/bias-019.fit\n",
            "Average: 314.4417028427124 \n",
            "Median: 315.0\n",
            "\n",
            "file name: /content/drive/My Drive/AstroPractice/bdf/bias-020.fit\n",
            "Average: 314.3527774810791 \n",
            "Median: 314.0\n",
            "\n",
            "file name: /content/drive/My Drive/AstroPractice/bdf/bias-021.fit\n",
            "Average: 314.6962356567383 \n",
            "Median: 315.0\n",
            "\n",
            "file name: /content/drive/My Drive/AstroPractice/bdf/bias-022.fit\n",
            "Average: 314.4889497756958 \n",
            "Median: 315.0\n",
            "\n",
            "file name: /content/drive/My Drive/AstroPractice/bdf/bias-023.fit\n",
            "Average: 314.1029930114746 \n",
            "Median: 314.0\n",
            "\n",
            "file name: /content/drive/My Drive/AstroPractice/bdf/bias-024.fit\n",
            "Average: 314.14874744415283 \n",
            "Median: 314.0\n",
            "\n",
            "file name: /content/drive/My Drive/AstroPractice/bdf/bias-025.fit\n",
            "Average: 313.3807706832886 \n",
            "Median: 313.0\n",
            "\n",
            "file name: /content/drive/My Drive/AstroPractice/bdf/bias-026.fit\n",
            "Average: 314.4837579727173 \n",
            "Median: 315.0\n",
            "\n",
            "file name: /content/drive/My Drive/AstroPractice/bdf/bias-027.fit\n",
            "Average: 313.9468021392822 \n",
            "Median: 314.0\n",
            "\n",
            "file name: /content/drive/My Drive/AstroPractice/bdf/bias-028.fit\n",
            "Average: 314.8749589920044 \n",
            "Median: 315.0\n",
            "#######################################################\n",
            "\n",
            "file name:master\n",
            "Master Average: 314.6179347038269 \n",
            "Master Median: 314.5\n",
            "\n",
            "#############################################\n",
            "\n",
            "Average: 314.7908878326416\n",
            "\n",
            "Average of the average: 314.50787258148193 \n",
            "Median of the average: 314.54386472702026\n",
            "\n",
            "Average: 314.8086233139038\n",
            "\n",
            "Average of the average: 314.50787258148193 \n",
            "Median of the average: 314.54386472702026\n",
            "\n",
            "Average: 314.8390598297119\n",
            "\n",
            "Average of the average: 314.50787258148193 \n",
            "Median of the average: 314.54386472702026\n",
            "\n",
            "Average: 315.03722763061523\n",
            "\n",
            "Average of the average: 314.50787258148193 \n",
            "Median of the average: 314.54386472702026\n",
            "\n",
            "Average: 315.1492586135864\n",
            "\n",
            "Average of the average: 314.50787258148193 \n",
            "Median of the average: 314.54386472702026\n",
            "\n",
            "Average: 314.5195779800415\n",
            "\n",
            "Average of the average: 314.50787258148193 \n",
            "Median of the average: 314.54386472702026\n",
            "\n",
            "Average: 314.568151473999\n",
            "\n",
            "Average of the average: 314.50787258148193 \n",
            "Median of the average: 314.54386472702026\n",
            "\n",
            "Average: 313.89050102233887\n",
            "\n",
            "Average of the average: 314.50787258148193 \n",
            "Median of the average: 314.54386472702026\n",
            "\n",
            "Average: 314.9039421081543\n",
            "\n",
            "Average of the average: 314.50787258148193 \n",
            "Median of the average: 314.54386472702026\n",
            "\n",
            "Average: 313.3913335800171\n",
            "\n",
            "Average of the average: 314.50787258148193 \n",
            "Median of the average: 314.54386472702026\n",
            "\n",
            "Average: 315.23509311676025\n",
            "\n",
            "Average of the average: 314.50787258148193 \n",
            "Median of the average: 314.54386472702026\n",
            "\n",
            "Average: 315.5891580581665\n",
            "\n",
            "Average of the average: 314.50787258148193 \n",
            "Median of the average: 314.54386472702026\n",
            "\n",
            "Average: 313.5477571487427\n",
            "\n",
            "Average of the average: 314.50787258148193 \n",
            "Median of the average: 314.54386472702026\n",
            "\n",
            "Average: 314.23756885528564\n",
            "\n",
            "Average of the average: 314.50787258148193 \n",
            "Median of the average: 314.54386472702026\n",
            "\n",
            "Average: 315.15112686157227\n",
            "\n",
            "Average of the average: 314.50787258148193 \n",
            "Median of the average: 314.54386472702026\n",
            "\n",
            "Average: 314.67833518981934\n",
            "\n",
            "Average of the average: 314.50787258148193 \n",
            "Median of the average: 314.54386472702026\n",
            "\n",
            "Average: 314.0094919204712\n",
            "\n",
            "Average of the average: 314.50787258148193 \n",
            "Median of the average: 314.54386472702026\n",
            "\n",
            "Average: 314.955641746521\n",
            "\n",
            "Average of the average: 314.50787258148193 \n",
            "Median of the average: 314.54386472702026\n",
            "\n",
            "Average: 314.4417028427124\n",
            "\n",
            "Average of the average: 314.50787258148193 \n",
            "Median of the average: 314.54386472702026\n",
            "\n",
            "Average: 314.3527774810791\n",
            "\n",
            "Average of the average: 314.50787258148193 \n",
            "Median of the average: 314.54386472702026\n",
            "\n",
            "Average: 314.6962356567383\n",
            "\n",
            "Average of the average: 314.50787258148193 \n",
            "Median of the average: 314.54386472702026\n",
            "\n",
            "Average: 314.4889497756958\n",
            "\n",
            "Average of the average: 314.50787258148193 \n",
            "Median of the average: 314.54386472702026\n",
            "\n",
            "Average: 314.1029930114746\n",
            "\n",
            "Average of the average: 314.50787258148193 \n",
            "Median of the average: 314.54386472702026\n",
            "\n",
            "Average: 314.14874744415283\n",
            "\n",
            "Average of the average: 314.50787258148193 \n",
            "Median of the average: 314.54386472702026\n",
            "\n",
            "Average: 313.3807706832886\n",
            "\n",
            "Average of the average: 314.50787258148193 \n",
            "Median of the average: 314.54386472702026\n",
            "\n",
            "Average: 314.4837579727173\n",
            "\n",
            "Average of the average: 314.50787258148193 \n",
            "Median of the average: 314.54386472702026\n",
            "\n",
            "Average: 313.9468021392822\n",
            "\n",
            "Average of the average: 314.50787258148193 \n",
            "Median of the average: 314.54386472702026\n",
            "\n",
            "Average: 314.8749589920044\n",
            "\n",
            "Average of the average: 314.50787258148193 \n",
            "Median of the average: 314.54386472702026\n",
            "\n",
            "#####################################################\n",
            "Average: [314.7908878326416, 314.8086233139038, 314.8390598297119, 315.03722763061523, 315.1492586135864, 314.5195779800415, 314.568151473999, 313.89050102233887, 314.9039421081543, 313.3913335800171, 315.23509311676025, 315.5891580581665, 313.5477571487427, 314.23756885528564, 315.15112686157227, 314.67833518981934, 314.0094919204712, 314.955641746521, 314.4417028427124, 314.3527774810791, 314.6962356567383, 314.4889497756958, 314.1029930114746, 314.14874744415283, 313.3807706832886, 314.4837579727173, 313.9468021392822, 314.8749589920044] \n",
            "\n",
            "Median: [315.0, 315.0, 315.0, 315.0, 315.0, 315.0, 315.0, 314.0, 315.0, 314.0, 315.0, 316.0, 314.0, 314.0, 315.0, 315.0, 314.0, 315.0, 315.0, 314.0, 315.0, 315.0, 314.0, 314.0, 313.0, 315.0, 314.0, 315.0] \n",
            "\n",
            "Average of the average: 314.50787258148193 \n",
            "\n",
            "Median of the average: 314.54386472702026 \n",
            "\n",
            "Standard deviation of the average : 0.5484577572820533\n"
          ],
          "name": "stdout"
        }
      ]
    },
    {
      "cell_type": "code",
      "metadata": {
        "id": "2vokVfAfx2Bc",
        "colab": {
          "base_uri": "https://localhost:8080/",
          "height": 643
        },
        "outputId": "12b9ccc5-d360-4bdb-892c-39c33dd0328e"
      },
      "source": [
        "#Plot of the averages\n",
        "\n",
        "fig, ax = plt.subplots(1, 1, figsize=(20, 10))\n",
        "ax.grid()\n",
        "ax.scatter(range(len(average)), average,marker='o' ,label='Data average' )\n",
        "ax.axhline(y=master_average, linestyle='dashed', label='Average of the master', color='red' )\n",
        "ax.axhline(y=master_median, linestyle='dashed', label='Median of the master', color='brown' )\n",
        "ax.axhline(y=np.add(new_mean,new_std), linestyle='dotted', label='StD', color='gray')\n",
        "ax.axhline(y=np.subtract(new_mean,new_std), linestyle='dotted', color='gray')\n",
        "ax.axhline(y=new_median, linestyle='dashed', label='Median of the Average', color='green')\n",
        "ax.axhline(y=new_mean, xmin=0, xmax=30, linestyle='dotted', label='Average of the average', color='blue')\n",
        "tick_list = ax.get_yticks()\n",
        "tick_list = np.append(tick_list, [new_mean, master_median, master_average,])\n",
        "plt.yticks(tick_list)\n",
        "ax.set_xlabel(\"Number of photo\")\n",
        "ax.set_ylabel(\"Counts value for image\")\n",
        "ax.legend()\n",
        "ax.set_ylim(313, 316)\n",
        "#tick not text\n",
        "print(tick_list)\n",
        "plt.show()"
      ],
      "execution_count": null,
      "outputs": [
        {
          "output_type": "stream",
          "text": [
            "[313.         313.5        314.         314.5        315.\n",
            " 315.5        316.         314.50787258 314.5        314.6179347 ]\n"
          ],
          "name": "stdout"
        },
        {
          "output_type": "display_data",
          "data": {
            "image/png": "[encoded data removed]",
            "text/plain": [
              "<Figure size 1440x720 with 1 Axes>"
            ]
          },
          "metadata": {
            "tags": [],
            "needs_background": "light"
          }
        }
      ]
    },
    {
      "cell_type": "markdown",
      "metadata": {
        "id": "F7NeXApt20Ay"
      },
      "source": [
        "# New Section"
      ]
    },
    {
      "cell_type": "code",
      "metadata": {
        "id": "HvUcVH8zBLgJ"
      },
      "source": [
        "#Histograms"
      ],
      "execution_count": null,
      "outputs": []
    },
    {
      "cell_type": "code",
      "metadata": {
        "id": "Yto8C_afbayU",
        "colab": {
          "base_uri": "https://localhost:8080/"
        },
        "outputId": "12cc1f0d-2521-476a-93e3-a7e929bedf97"
      },
      "source": [
        "#Data Process\n",
        "\n",
        "#Flattenning for ONE image\n",
        "file_data=fits.getdata('/content/drive/My Drive/AstroPractice/bdf/bias-001.fit')\n",
        "file_1D=file_data.flatten()\n",
        "print(file_1D)\n",
        "\n",
        "#For every image one histogram in subplots\n",
        "# enumerate\n",
        "for i, f in enumerate(files):\n",
        "    print(i, f)\n",
        "\n",
        "#n0 of subplot\n",
        "subplot_number = len(files)\n",
        "\n",
        "\n",
        "hist_data_list = []\n",
        "for d in data_list:\n",
        "  hist_data_list.append(d.flatten())\n",
        "print(hist_data_list)\n",
        "\n",
        "#Finding the min and max to fit the axes\n",
        "min_xaxis_data= np.min(hist_data_list)\n",
        "max_xaxis_data= np.max(hist_data_list)\n",
        "\n",
        "print('\\nMinimum x', min_xaxis_data,'\\nMaximum x', max_xaxis_data)\n",
        "\n",
        "#Combined Image\n",
        "master_data=fits.getdata('/content/drive/My Drive/AstroPractice/bdf/masters/combined_bias.fit')\n",
        "master_1D=master_data.flatten()\n",
        "print(master_1D)\n"
      ],
      "execution_count": null,
      "outputs": [
        {
          "output_type": "stream",
          "text": [
            "[311 301 304 ... 320 317 314]\n",
            "0 /content/drive/My Drive/AstroPractice/bdf/bias-001.fit\n",
            "1 /content/drive/My Drive/AstroPractice/bdf/bias-002.fit\n",
            "2 /content/drive/My Drive/AstroPractice/bdf/bias-003.fit\n",
            "3 /content/drive/My Drive/AstroPractice/bdf/bias-004.fit\n",
            "4 /content/drive/My Drive/AstroPractice/bdf/bias-005.fit\n",
            "5 /content/drive/My Drive/AstroPractice/bdf/bias-006.fit\n",
            "6 /content/drive/My Drive/AstroPractice/bdf/bias-007.fit\n",
            "7 /content/drive/My Drive/AstroPractice/bdf/bias-008.fit\n",
            "8 /content/drive/My Drive/AstroPractice/bdf/bias-009.fit\n",
            "9 /content/drive/My Drive/AstroPractice/bdf/bias-010.fit\n",
            "10 /content/drive/My Drive/AstroPractice/bdf/bias-011.fit\n",
            "11 /content/drive/My Drive/AstroPractice/bdf/bias-012.fit\n",
            "12 /content/drive/My Drive/AstroPractice/bdf/bias-013.fit\n",
            "13 /content/drive/My Drive/AstroPractice/bdf/bias-014.fit\n",
            "14 /content/drive/My Drive/AstroPractice/bdf/bias-015.fit\n",
            "15 /content/drive/My Drive/AstroPractice/bdf/bias-016.fit\n",
            "16 /content/drive/My Drive/AstroPractice/bdf/bias-017.fit\n",
            "17 /content/drive/My Drive/AstroPractice/bdf/bias-018.fit\n",
            "18 /content/drive/My Drive/AstroPractice/bdf/bias-019.fit\n",
            "19 /content/drive/My Drive/AstroPractice/bdf/bias-020.fit\n",
            "20 /content/drive/My Drive/AstroPractice/bdf/bias-021.fit\n",
            "21 /content/drive/My Drive/AstroPractice/bdf/bias-022.fit\n",
            "22 /content/drive/My Drive/AstroPractice/bdf/bias-023.fit\n",
            "23 /content/drive/My Drive/AstroPractice/bdf/bias-024.fit\n",
            "24 /content/drive/My Drive/AstroPractice/bdf/bias-025.fit\n",
            "25 /content/drive/My Drive/AstroPractice/bdf/bias-026.fit\n",
            "26 /content/drive/My Drive/AstroPractice/bdf/bias-027.fit\n",
            "27 /content/drive/My Drive/AstroPractice/bdf/bias-028.fit\n",
            "[array([311, 301, 304, ..., 320, 317, 314], dtype=uint16), array([313, 296, 318, ..., 320, 317, 314], dtype=uint16), array([313, 311, 321, ..., 312, 314, 314], dtype=uint16), array([313, 315, 313, ..., 314, 322, 317], dtype=uint16), array([303, 312, 310, ..., 316, 317, 306], dtype=uint16), array([321, 324, 313, ..., 318, 313, 319], dtype=uint16), array([315, 306, 312, ..., 310, 318, 331], dtype=uint16), array([302, 307, 323, ..., 322, 318, 306], dtype=uint16), array([302, 315, 312, ..., 316, 307, 313], dtype=uint16), array([318, 304, 307, ..., 311, 318, 313], dtype=uint16), array([318, 306, 323, ..., 321, 318, 320], dtype=uint16), array([313, 316, 308, ..., 314, 315, 307], dtype=uint16), array([310, 319, 315, ..., 305, 323, 315], dtype=uint16), array([304, 314, 316, ..., 315, 321, 300], dtype=uint16), array([309, 321, 300, ..., 325, 307, 317], dtype=uint16), array([322, 315, 323, ..., 315, 310, 313], dtype=uint16), array([299, 308, 320, ..., 317, 302, 328], dtype=uint16), array([314, 306, 312, ..., 319, 308, 313], dtype=uint16), array([311, 314, 317, ..., 319, 322, 318], dtype=uint16), array([304, 311, 314, ..., 301, 315, 304], dtype=uint16), array([313, 312, 299, ..., 328, 322, 315], dtype=uint16), array([308, 311, 314, ..., 332, 322, 309], dtype=uint16), array([306, 311, 308, ..., 327, 312, 322], dtype=uint16), array([310, 315, 306, ..., 323, 305, 315], dtype=uint16), array([309, 312, 317, ..., 321, 312, 315], dtype=uint16), array([315, 311, 305, ..., 322, 313, 302], dtype=uint16), array([305, 315, 310, ..., 326, 318, 302], dtype=uint16), array([319, 303, 309, ..., 315, 310, 302], dtype=uint16)]\n",
            "\n",
            "Minimum x 275 \n",
            "Maximum x 351\n",
            "[310.5 311.5 312.5 ... 318.5 317.  314. ]\n"
          ],
          "name": "stdout"
        }
      ]
    },
    {
      "cell_type": "code",
      "metadata": {
        "id": "O0secg-YUFNS",
        "colab": {
          "base_uri": "https://localhost:8080/",
          "height": 384
        },
        "outputId": "22a20357-6e61-4afa-889f-b6700b3ee529"
      },
      "source": [
        "#Histogram of the master file\n",
        "hist(master_1D, bins=np.linspace(min_xaxis_data, max_xaxis_data, num=bin_num))"
      ],
      "execution_count": null,
      "outputs": [
        {
          "output_type": "execute_result",
          "data": {
            "text/plain": [
              "(array([0.00000e+00, 0.00000e+00, 0.00000e+00, 0.00000e+00, 0.00000e+00,\n",
              "        0.00000e+00, 0.00000e+00, 5.60000e+01, 2.40580e+04, 5.15416e+05,\n",
              "        4.91891e+05, 1.71060e+04, 4.90000e+01, 0.00000e+00, 0.00000e+00,\n",
              "        0.00000e+00, 0.00000e+00, 0.00000e+00, 0.00000e+00]),\n",
              " array([275., 279., 283., 287., 291., 295., 299., 303., 307., 311., 315.,\n",
              "        319., 323., 327., 331., 335., 339., 343., 347., 351.]),\n",
              " <a list of 19 Patch objects>)"
            ]
          },
          "metadata": {
            "tags": []
          },
          "execution_count": 73
        },
        {
          "output_type": "display_data",
          "data": {
            "image/png": "[encoded data removed]",
            "text/plain": [
              "<Figure size 432x288 with 1 Axes>"
            ]
          },
          "metadata": {
            "tags": [],
            "needs_background": "light"
          }
        }
      ]
    },
    {
      "cell_type": "code",
      "metadata": {
        "id": "S6Ika2xOCh7w",
        "colab": {
          "base_uri": "https://localhost:8080/",
          "height": 609
        },
        "outputId": "2bdc6083-3062-47b2-923a-36688a11179e"
      },
      "source": [
        "#Histogram for each one of the images\n",
        "bin_num=20\n",
        "columns=5\n",
        "rows= (subplot_number//columns)+1\n",
        "fig, ax = plt.subplots(rows, columns , figsize=(20,10))\n",
        "fig.subplots_adjust(hspace=0.4, wspace=0.4)\n",
        "counter = 0\n",
        "max_y=0\n",
        "for i in range(rows):\n",
        "    for j in range(columns):\n",
        "      if counter < subplot_number:\n",
        "        a = hist(hist_data_list[counter], bins=np.linspace(min_xaxis_data, max_xaxis_data, num=bin_num), ax=ax[i, j])\n",
        "        if max(a[0])> max_y:\n",
        "          max_y=max(a[0])\n",
        "        counter += 1\n",
        "      else:\n",
        "        break\n",
        "\n",
        "print('Max y value:', max_y)\n",
        "\n",
        "for row in ax:\n",
        "  for a in row:  \n",
        "    a.set_ylim(0, max_y)\n",
        "\n"
      ],
      "execution_count": null,
      "outputs": [
        {
          "output_type": "stream",
          "text": [
            "Max y value: 232989.0\n"
          ],
          "name": "stdout"
        },
        {
          "output_type": "display_data",
          "data": {
            "image/png": "[encoded data removed]",
            "text/plain": [
              "<Figure size 1440x720 with 30 Axes>"
            ]
          },
          "metadata": {
            "tags": [],
            "needs_background": "light"
          }
        }
      ]
    },
    {
      "cell_type": "code",
      "metadata": {
        "id": "FY4GUUp0seqD",
        "colab": {
          "base_uri": "https://localhost:8080/",
          "height": 638
        },
        "outputId": "01015f2f-3305-4149-e359-ec87102a4176"
      },
      "source": [
        "#Histogram of one file\n",
        "fig, ax = plt.subplots(1, 1, figsize=(20, 10))\n",
        "\n",
        "hist(file_1D, bins=10);\n",
        "ax.set_title('One image distribution')\n",
        "ax.set_xlabel('Pixel value')\n",
        "ax.set_ylabel('Number of pixels')"
      ],
      "execution_count": null,
      "outputs": [
        {
          "output_type": "execute_result",
          "data": {
            "text/plain": [
              "Text(0, 0.5, 'Number of pixels')"
            ]
          },
          "metadata": {
            "tags": []
          },
          "execution_count": 11
        },
        {
          "output_type": "display_data",
          "data": {
            "image/png": "[encoded data removed]",
            "text/plain": [
              "<Figure size 1440x720 with 1 Axes>"
            ]
          },
          "metadata": {
            "tags": [],
            "needs_background": "light"
          }
        }
      ]
    },
    {
      "cell_type": "code",
      "metadata": {
        "id": "PqMdoLp1sszU",
        "colab": {
          "base_uri": "https://localhost:8080/"
        },
        "outputId": "e4ad1d12-fdb2-4892-f38d-0db23b25162d"
      },
      "source": [
        "#Loading of the data from at least 3 random images to plot with the master\n",
        "my_random = []\n",
        "random_count = 15\n",
        "for i in range(random_count):\n",
        "   my_random.append(random.choice(hist_data_list))\n",
        "min_number= np.min(my_random)\n",
        "max_number= np.max(my_random)\n",
        "\n",
        "print('my_random:', my_random, '\\nMinimum', min_number,'\\nMaximum', max_number )\n",
        "\n"
      ],
      "execution_count": null,
      "outputs": [
        {
          "output_type": "stream",
          "text": [
            "my_random: [array([309, 321, 300, ..., 325, 307, 317], dtype=uint16), array([315, 306, 312, ..., 310, 318, 331], dtype=uint16), array([311, 301, 304, ..., 320, 317, 314], dtype=uint16), array([318, 304, 307, ..., 311, 318, 313], dtype=uint16), array([318, 306, 323, ..., 321, 318, 320], dtype=uint16), array([302, 315, 312, ..., 316, 307, 313], dtype=uint16), array([313, 316, 308, ..., 314, 315, 307], dtype=uint16), array([309, 312, 317, ..., 321, 312, 315], dtype=uint16), array([305, 315, 310, ..., 326, 318, 302], dtype=uint16), array([315, 311, 305, ..., 322, 313, 302], dtype=uint16), array([313, 311, 321, ..., 312, 314, 314], dtype=uint16), array([306, 311, 308, ..., 327, 312, 322], dtype=uint16), array([318, 304, 307, ..., 311, 318, 313], dtype=uint16), array([314, 306, 312, ..., 319, 308, 313], dtype=uint16), array([304, 314, 316, ..., 315, 321, 300], dtype=uint16)] \n",
            "Minimum 277 \n",
            "Maximum 351\n"
          ],
          "name": "stdout"
        }
      ]
    },
    {
      "cell_type": "code",
      "metadata": {
        "id": "60ObzUEWx9wF",
        "colab": {
          "base_uri": "https://localhost:8080/",
          "height": 638
        },
        "outputId": "ce46aac7-0fde-4301-a52c-7b88ff712b10"
      },
      "source": [
        "#Histogram of the master(red) and of the random images\n",
        "bin_num = 30\n",
        "fig, ax = plt.subplots(1, 1, figsize=(20, 10))\n",
        "hist(master_1D, bins=np.linspace(min_number, max_number, num=bin_num), color='red');\n",
        "for m in range(random_count):\n",
        "    hist(my_random[m],bins=np.linspace(min_number, max_number, num=bin_num), ax=ax,ls='dashed', histtype=u'step');\n",
        "  \n",
        "ax.set_title('Combined image distribution')\n",
        "ax.set_xlabel('Pixel value')\n",
        "ax.set_ylabel('Number of pixels')\n",
        "\n",
        "\n"
      ],
      "execution_count": null,
      "outputs": [
        {
          "output_type": "execute_result",
          "data": {
            "text/plain": [
              "Text(0, 0.5, 'Number of pixels')"
            ]
          },
          "metadata": {
            "tags": []
          },
          "execution_count": 31
        },
        {
          "output_type": "display_data",
          "data": {
            "image/png": "[encoded data removed]",
            "text/plain": [
              "<Figure size 1440x720 with 1 Axes>"
            ]
          },
          "metadata": {
            "tags": [],
            "needs_background": "light"
          }
        }
      ]
    }
  ]
}